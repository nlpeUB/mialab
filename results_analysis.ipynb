{
 "cells": [
  {
   "cell_type": "code",
   "execution_count": 44,
   "id": "5370c033-0377-421c-ac58-c65572e4ca61",
   "metadata": {},
   "outputs": [
    {
     "name": "stdout",
     "output_type": "stream",
     "text": [
      "The autoreload extension is already loaded. To reload it, use:\n",
      "  %reload_ext autoreload\n"
     ]
    }
   ],
   "source": [
    "%load_ext autoreload\n",
    "%autoreload 2"
   ]
  },
  {
   "cell_type": "markdown",
   "id": "4815ca16-3b7a-4e07-8b2d-1553bd890ee6",
   "metadata": {},
   "source": [
    "# Feature engineering - results analysis"
   ]
  },
  {
   "cell_type": "code",
   "execution_count": 45,
   "id": "6de32a05-56aa-456d-8e52-22bc45163b47",
   "metadata": {},
   "outputs": [],
   "source": [
    "import wandb\n",
    "import pandas as pd\n",
    "\n",
    "import plotly.io as pio\n",
    "pio.renderers.default = 'iframe'"
   ]
  },
  {
   "cell_type": "code",
   "execution_count": 46,
   "id": "34f5df26-d624-4dfc-b18c-a04e89beb05d",
   "metadata": {},
   "outputs": [],
   "source": [
    "FEATURE_NAMES = [\n",
    "    'intensity_feature',\n",
    "    'coordinates_feature',\n",
    "    'gradient_intensity_feature',\n",
    "    'texture_contrast_feature',\n",
    "    'texture_correlation_feature',\n",
    "    'texture_dissimilarity_feature',\n",
    "    # 'texture',\n",
    "    't2_features',\n",
    "    'edge_feature'\n",
    "]"
   ]
  },
  {
   "cell_type": "markdown",
   "id": "76afbaf4-81b7-489b-bafa-79c29c0be60b",
   "metadata": {},
   "source": [
    "## Loading data from W&B"
   ]
  },
  {
   "cell_type": "code",
   "execution_count": 47,
   "id": "089a481d-a504-4c4d-a220-eeaf5fc9a7d9",
   "metadata": {},
   "outputs": [],
   "source": [
    "api = wandb.Api()\n",
    "entity, project = \"alicja-krzeminska-sciga-dl\", \"mialab\""
   ]
  },
  {
   "cell_type": "code",
   "execution_count": 48,
   "id": "39dce825-369e-4e3c-8625-dacc9f53f9d4",
   "metadata": {},
   "outputs": [],
   "source": [
    "first_valid_run_id = \"g85vwre9\"\n",
    "run = api.run(f\"{entity}/{project}/{first_valid_run_id}\")\n",
    "first_valid_run_timestamp = run.summary[\"_timestamp\"]"
   ]
  },
  {
   "cell_type": "code",
   "execution_count": 49,
   "id": "59c81a4f-583d-444b-b25d-da6c54dd57db",
   "metadata": {},
   "outputs": [],
   "source": [
    "runs = api.runs(entity + \"/\" + project)\n",
    "\n",
    "run_dict_list = []\n",
    "\n",
    "for run in runs:\n",
    "    if run.summary[\"_timestamp\"] >= first_valid_run_timestamp:\n",
    "        summary = run.summary._json_dict\n",
    "        config = {k: v for k, v in run.config.items() if not k.startswith(\"_\")}\n",
    "        \n",
    "        run_dict_list.append({\n",
    "            \"run_id\": run.id,\n",
    "            \"run_name\": run.name,\n",
    "            **summary,\n",
    "            **config\n",
    "        })\n",
    "        \n",
    "runs_df = pd.DataFrame(run_dict_list)"
   ]
  },
  {
   "cell_type": "code",
   "execution_count": 50,
   "id": "11a335a7-ef93-4f71-a1be-d53684b143ab",
   "metadata": {},
   "outputs": [
    {
     "data": {
      "text/html": [
       "<div>\n",
       "<style scoped>\n",
       "    .dataframe tbody tr th:only-of-type {\n",
       "        vertical-align: middle;\n",
       "    }\n",
       "\n",
       "    .dataframe tbody tr th {\n",
       "        vertical-align: top;\n",
       "    }\n",
       "\n",
       "    .dataframe thead th {\n",
       "        text-align: right;\n",
       "    }\n",
       "</style>\n",
       "<table border=\"1\" class=\"dataframe\">\n",
       "  <thead>\n",
       "    <tr style=\"text-align: right;\">\n",
       "      <th></th>\n",
       "      <th>MEAN_DICE</th>\n",
       "      <th>MEAN_DICE_Amygdala</th>\n",
       "      <th>MEAN_DICE_GreyMatter</th>\n",
       "      <th>MEAN_DICE_Hippocampus</th>\n",
       "      <th>MEAN_DICE_Thalamus</th>\n",
       "      <th>MEAN_DICE_WhiteMatter</th>\n",
       "      <th>STD_DICE_Amygdala</th>\n",
       "      <th>STD_DICE_GreyMatter</th>\n",
       "      <th>STD_DICE_Hippocampus</th>\n",
       "      <th>STD_DICE_Thalamus</th>\n",
       "      <th>...</th>\n",
       "      <th>intensity_feature</th>\n",
       "      <th>coordinates_feature</th>\n",
       "      <th>gradient_intensity_feature</th>\n",
       "      <th>texture_contrast_feature</th>\n",
       "      <th>texture_correlation_feature</th>\n",
       "      <th>texture_dissimilarity_feature</th>\n",
       "      <th>t2_features</th>\n",
       "      <th>edge_feature</th>\n",
       "      <th>n_estimators</th>\n",
       "      <th>texture_window</th>\n",
       "    </tr>\n",
       "  </thead>\n",
       "  <tbody>\n",
       "    <tr>\n",
       "      <th>0</th>\n",
       "      <td>0.393097</td>\n",
       "      <td>0.0</td>\n",
       "      <td>0.649125</td>\n",
       "      <td>0.128059</td>\n",
       "      <td>0.417522</td>\n",
       "      <td>0.770781</td>\n",
       "      <td>0.0</td>\n",
       "      <td>0.017915</td>\n",
       "      <td>0.009357</td>\n",
       "      <td>0.019323</td>\n",
       "      <td>...</td>\n",
       "      <td>True</td>\n",
       "      <td>True</td>\n",
       "      <td>True</td>\n",
       "      <td>True</td>\n",
       "      <td>True</td>\n",
       "      <td>True</td>\n",
       "      <td>True</td>\n",
       "      <td>True</td>\n",
       "      <td>100</td>\n",
       "      <td>10</td>\n",
       "    </tr>\n",
       "    <tr>\n",
       "      <th>1</th>\n",
       "      <td>0.353196</td>\n",
       "      <td>0.0</td>\n",
       "      <td>0.643616</td>\n",
       "      <td>0.125801</td>\n",
       "      <td>0.218295</td>\n",
       "      <td>0.778271</td>\n",
       "      <td>0.0</td>\n",
       "      <td>0.017772</td>\n",
       "      <td>0.009161</td>\n",
       "      <td>0.014559</td>\n",
       "      <td>...</td>\n",
       "      <td>True</td>\n",
       "      <td>True</td>\n",
       "      <td>True</td>\n",
       "      <td>True</td>\n",
       "      <td>True</td>\n",
       "      <td>True</td>\n",
       "      <td>True</td>\n",
       "      <td>False</td>\n",
       "      <td>100</td>\n",
       "      <td>10</td>\n",
       "    </tr>\n",
       "    <tr>\n",
       "      <th>2</th>\n",
       "      <td>0.307565</td>\n",
       "      <td>0.0</td>\n",
       "      <td>0.584127</td>\n",
       "      <td>0.117544</td>\n",
       "      <td>0.129015</td>\n",
       "      <td>0.707138</td>\n",
       "      <td>0.0</td>\n",
       "      <td>0.038955</td>\n",
       "      <td>0.027173</td>\n",
       "      <td>0.103484</td>\n",
       "      <td>...</td>\n",
       "      <td>True</td>\n",
       "      <td>True</td>\n",
       "      <td>True</td>\n",
       "      <td>True</td>\n",
       "      <td>True</td>\n",
       "      <td>True</td>\n",
       "      <td>False</td>\n",
       "      <td>True</td>\n",
       "      <td>100</td>\n",
       "      <td>10</td>\n",
       "    </tr>\n",
       "    <tr>\n",
       "      <th>3</th>\n",
       "      <td>0.298819</td>\n",
       "      <td>0.0</td>\n",
       "      <td>0.570537</td>\n",
       "      <td>0.087176</td>\n",
       "      <td>0.132333</td>\n",
       "      <td>0.704048</td>\n",
       "      <td>0.0</td>\n",
       "      <td>0.038195</td>\n",
       "      <td>0.016760</td>\n",
       "      <td>0.107087</td>\n",
       "      <td>...</td>\n",
       "      <td>True</td>\n",
       "      <td>True</td>\n",
       "      <td>True</td>\n",
       "      <td>True</td>\n",
       "      <td>True</td>\n",
       "      <td>True</td>\n",
       "      <td>False</td>\n",
       "      <td>False</td>\n",
       "      <td>100</td>\n",
       "      <td>10</td>\n",
       "    </tr>\n",
       "    <tr>\n",
       "      <th>4</th>\n",
       "      <td>0.353528</td>\n",
       "      <td>0.0</td>\n",
       "      <td>0.647737</td>\n",
       "      <td>0.125849</td>\n",
       "      <td>0.218995</td>\n",
       "      <td>0.775057</td>\n",
       "      <td>0.0</td>\n",
       "      <td>0.018799</td>\n",
       "      <td>0.009740</td>\n",
       "      <td>0.014930</td>\n",
       "      <td>...</td>\n",
       "      <td>True</td>\n",
       "      <td>True</td>\n",
       "      <td>True</td>\n",
       "      <td>False</td>\n",
       "      <td>False</td>\n",
       "      <td>False</td>\n",
       "      <td>True</td>\n",
       "      <td>True</td>\n",
       "      <td>100</td>\n",
       "      <td>10</td>\n",
       "    </tr>\n",
       "  </tbody>\n",
       "</table>\n",
       "<p>5 rows × 21 columns</p>\n",
       "</div>"
      ],
      "text/plain": [
       "   MEAN_DICE  MEAN_DICE_Amygdala  MEAN_DICE_GreyMatter  MEAN_DICE_Hippocampus  \\\n",
       "0   0.393097                 0.0              0.649125               0.128059   \n",
       "1   0.353196                 0.0              0.643616               0.125801   \n",
       "2   0.307565                 0.0              0.584127               0.117544   \n",
       "3   0.298819                 0.0              0.570537               0.087176   \n",
       "4   0.353528                 0.0              0.647737               0.125849   \n",
       "\n",
       "   MEAN_DICE_Thalamus  MEAN_DICE_WhiteMatter  STD_DICE_Amygdala  \\\n",
       "0            0.417522               0.770781                0.0   \n",
       "1            0.218295               0.778271                0.0   \n",
       "2            0.129015               0.707138                0.0   \n",
       "3            0.132333               0.704048                0.0   \n",
       "4            0.218995               0.775057                0.0   \n",
       "\n",
       "   STD_DICE_GreyMatter  STD_DICE_Hippocampus  STD_DICE_Thalamus  ...  \\\n",
       "0             0.017915              0.009357           0.019323  ...   \n",
       "1             0.017772              0.009161           0.014559  ...   \n",
       "2             0.038955              0.027173           0.103484  ...   \n",
       "3             0.038195              0.016760           0.107087  ...   \n",
       "4             0.018799              0.009740           0.014930  ...   \n",
       "\n",
       "   intensity_feature  coordinates_feature  gradient_intensity_feature  \\\n",
       "0               True                 True                        True   \n",
       "1               True                 True                        True   \n",
       "2               True                 True                        True   \n",
       "3               True                 True                        True   \n",
       "4               True                 True                        True   \n",
       "\n",
       "   texture_contrast_feature  texture_correlation_feature  \\\n",
       "0                      True                         True   \n",
       "1                      True                         True   \n",
       "2                      True                         True   \n",
       "3                      True                         True   \n",
       "4                     False                        False   \n",
       "\n",
       "   texture_dissimilarity_feature  t2_features  edge_feature  n_estimators  \\\n",
       "0                           True         True          True           100   \n",
       "1                           True         True         False           100   \n",
       "2                           True        False          True           100   \n",
       "3                           True        False         False           100   \n",
       "4                          False         True          True           100   \n",
       "\n",
       "   texture_window  \n",
       "0              10  \n",
       "1              10  \n",
       "2              10  \n",
       "3              10  \n",
       "4              10  \n",
       "\n",
       "[5 rows x 21 columns]"
      ]
     },
     "execution_count": 50,
     "metadata": {},
     "output_type": "execute_result"
    }
   ],
   "source": [
    "metric_columns = [c for c in runs_df.columns if \"_DICE\" in c]\n",
    "interesting_columns = metric_columns + FEATURE_NAMES + [\"n_estimators\", \"texture_window\"]\n",
    "\n",
    "runs_df[interesting_columns].head()"
   ]
  },
  {
   "cell_type": "code",
   "execution_count": 51,
   "id": "17feb821-d1b8-4d4f-b5fd-a59a02c8b00c",
   "metadata": {},
   "outputs": [],
   "source": [
    "runs_df = runs_df.drop_duplicates(subset=FEATURE_NAMES + [\"n_estimators\", \"texture_window\"], keep='first')"
   ]
  },
  {
   "cell_type": "code",
   "execution_count": 52,
   "id": "01ef1e25-5cd6-486b-bfff-c2b5728d411d",
   "metadata": {},
   "outputs": [
    {
     "data": {
      "text/plain": [
       "n_estimators  texture_window\n",
       "10            5                 62\n",
       "100           5                 62\n",
       "              10                62\n",
       "Name: count, dtype: int64"
      ]
     },
     "execution_count": 52,
     "metadata": {},
     "output_type": "execute_result"
    }
   ],
   "source": [
    "runs_df[[\"n_estimators\", \"texture_window\"]].value_counts()"
   ]
  },
  {
   "cell_type": "markdown",
   "id": "2250927d-edb4-4bb4-a018-25702c5a3af1",
   "metadata": {},
   "source": [
    "## Reslults analysis"
   ]
  },
  {
   "cell_type": "code",
   "execution_count": 53,
   "id": "bf51ff60-0b23-469c-bf4b-10dafa4766b5",
   "metadata": {},
   "outputs": [],
   "source": [
    "from plot_results import plot_dice_scores"
   ]
  },
  {
   "cell_type": "markdown",
   "id": "198619d6-847c-412d-9036-de207777faa2",
   "metadata": {},
   "source": [
    "### A larger amount of features improves the segmentation performance"
   ]
  },
  {
   "cell_type": "code",
   "execution_count": 54,
   "id": "cc38ec6d-9091-4cc0-bfde-a5a3127cfd2f",
   "metadata": {},
   "outputs": [],
   "source": [
    "def count_features(row):\n",
    "    features_count = 0\n",
    "    for f in FEATURE_NAMES:\n",
    "        if f != \"t2_features\":\n",
    "            features_count += row[f]\n",
    "    if row[\"t2_features\"]:\n",
    "        features_count *= 2\n",
    "    return features_count\n",
    "\n",
    "runs_df[\"features_number\"] = runs_df.apply(lambda row: count_features(row), axis=1)"
   ]
  },
  {
   "cell_type": "code",
   "execution_count": 55,
   "id": "fb929871-fa9f-4352-b3bf-20fe91c85897",
   "metadata": {},
   "outputs": [
    {
     "data": {
      "text/plain": [
       "Index(['run_id', 'run_name', 'DICE score', 'Features importance', 'MEAN_DICE',\n",
       "       'MEAN_DICE_Amygdala', 'MEAN_DICE_GreyMatter', 'MEAN_DICE_Hippocampus',\n",
       "       'MEAN_DICE_Thalamus', 'MEAN_DICE_WhiteMatter', 'STD_DICE_Amygdala',\n",
       "       'STD_DICE_GreyMatter', 'STD_DICE_Hippocampus', 'STD_DICE_Thalamus',\n",
       "       'STD_DICE_WhiteMatter', '_runtime', '_step', '_timestamp', '_wandb',\n",
       "       'coordinates_feature', 'edge_feature', 'gradient_intensity_feature',\n",
       "       'intensity_feature', 'load_features', 'load_pre', 'normalization_pre',\n",
       "       'overwrite', 'registration_pre', 'save_features', 'save_pre',\n",
       "       'skullstrip_pre', 't2_features', 'texture_contrast_feature',\n",
       "       'texture_correlation_feature', 'texture_dissimilarity_feature',\n",
       "       'texture_window', 'training', 'n_jobs', 'verbose', 'bootstrap',\n",
       "       'ccp_alpha', 'criterion', 'max_depth', 'oob_score', 'warm_start',\n",
       "       'max_samples', 'class_weight', 'max_features', 'n_estimators',\n",
       "       'random_state', 'max_leaf_nodes', 'min_samples_leaf',\n",
       "       'min_samples_split', 'min_impurity_decrease',\n",
       "       'min_weight_fraction_leaf', 'features_number'],\n",
       "      dtype='object')"
      ]
     },
     "execution_count": 55,
     "metadata": {},
     "output_type": "execute_result"
    }
   ],
   "source": [
    "runs_df.columns"
   ]
  },
  {
   "cell_type": "code",
   "execution_count": 58,
   "id": "2bfce7b3-b367-4d14-978d-65de5df03282",
   "metadata": {},
   "outputs": [
    {
     "data": {
      "text/html": [
       "<iframe\n",
       "    scrolling=\"no\"\n",
       "    width=\"100%\"\n",
       "    height=\"545px\"\n",
       "    src=\"iframe_figures/figure_58.html\"\n",
       "    frameborder=\"0\"\n",
       "    allowfullscreen\n",
       "></iframe>\n"
      ]
     },
     "metadata": {},
     "output_type": "display_data"
    }
   ],
   "source": [
    "plot_dice_scores(runs_df, n_estimators=100, texture_window=10, metric_columns=metric_columns)"
   ]
  },
  {
   "cell_type": "code",
   "execution_count": null,
   "id": "f8b08a8a-c48f-4719-aae2-a15214f66cf4",
   "metadata": {},
   "outputs": [],
   "source": [
    "plot_dice_scores(runs_df, n_estimators=100, texture_window=5)"
   ]
  },
  {
   "cell_type": "code",
   "execution_count": null,
   "id": "b64e09f5-a21a-4efc-ba80-72419b5dc4e6",
   "metadata": {},
   "outputs": [],
   "source": [
    "plot_dice_scores(runs_df, n_estimators=10, texture_window=5)"
   ]
  },
  {
   "cell_type": "markdown",
   "id": "ab6d787b-db95-4fbf-b895-6f7c8968da97",
   "metadata": {},
   "source": [
    "In general, we can see increasing trend of metrics values with respect to the number of features. However, after analysis of DICE score for each class we can see that the biggest impact the number of features has on GreyMatter and WhiteMatter, that have quite big DICE scores, so their contribution to mean DICE is bigger than for other classes.\n",
    "\n",
    "Additionally, here we consider only the number of the features, but the combinations are different, and also the number of samples is different (e.g. only one sample for all the features activated)."
   ]
  },
  {
   "cell_type": "code",
   "execution_count": null,
   "id": "fb01bb33-81bf-4fab-b4e7-5742dad74d25",
   "metadata": {},
   "outputs": [],
   "source": [
    "import pandas as pd\n",
    "import plotly.express as px\n",
    "import plotly.graph_objects as go\n",
    "\n",
    "runs_df['n_estimators_and_texture_window'] = (\n",
    "    runs_df['n_estimators'].astype(str) + '&' + runs_df['texture_window'].astype(str)\n",
    ")\n",
    "\n",
    "grouped_df = runs_df.groupby(FEATURE_NAMES + ['n_estimators_and_texture_window'])['MEAN_DICE'].mean().reset_index()\n",
    "\n",
    "pivot_df = grouped_df.pivot(\n",
    "    index=FEATURE_NAMES,\n",
    "    columns='n_estimators_and_texture_window',\n",
    "    values='MEAN_DICE'\n",
    ").reset_index()\n",
    "\n",
    "pivot_df = pivot_df.sort_values(\"100&5\").reset_index()\n",
    "\n",
    "\n",
    "fig = go.Figure()\n",
    "\n",
    "n_estimators_columns = [col for col in pivot_df.columns if col not in FEATURE_NAMES + [\"index\"]]\n",
    "\n",
    "for col in n_estimators_columns:\n",
    "    fig.add_trace(\n",
    "        go.Scatter(\n",
    "            x=pivot_df.index,\n",
    "            y=pivot_df[col],\n",
    "            mode='markers',\n",
    "            name=col\n",
    "        )\n",
    "    )\n",
    "\n",
    "fig.update_layout(\n",
    "    title=\"MEAN_Dice for each n_estimators_and_texture_window\",\n",
    "    xaxis_title=\"Feature Combination\",\n",
    "    yaxis_title=\"MEAN_Dice\",\n",
    "    legend_title=\"n_estimators_and_texture_window\",\n",
    ")\n",
    "\n",
    "fig.show()"
   ]
  },
  {
   "cell_type": "markdown",
   "id": "46ae5f8c-136d-4f4b-900e-6105dc89aada",
   "metadata": {},
   "source": [
    "### Feature importance analysis"
   ]
  },
  {
   "cell_type": "code",
   "execution_count": null,
   "id": "d6e813f9-0d6e-4a70-8edb-de65b5bdb56f",
   "metadata": {},
   "outputs": [],
   "source": [
    "%matplotlib inline\n",
    "\n",
    "import matplotlib.pyplot as plt\n",
    "import matplotlib.image as mpimg\n",
    "\n",
    "img = mpimg.imread(f\"mia-result/g85vwre9_feature_importances.png\")\n",
    "plt.figure(figsize=(10, 10)) \n",
    "imgplot = plt.imshow(img)\n",
    "plt.axis('off')\n",
    "plt.show()"
   ]
  },
  {
   "cell_type": "markdown",
   "id": "0dd62352-4278-4683-aa9f-ff846d3106ed",
   "metadata": {},
   "source": [
    "From the analysis of the feature importances we can see that the intensity of T1w and T2w are the most important for the model."
   ]
  }
 ],
 "metadata": {
  "kernelspec": {
   "display_name": "mialab",
   "language": "python",
   "name": "mialab"
  },
  "language_info": {
   "codemirror_mode": {
    "name": "ipython",
    "version": 3
   },
   "file_extension": ".py",
   "mimetype": "text/x-python",
   "name": "python",
   "nbconvert_exporter": "python",
   "pygments_lexer": "ipython3",
   "version": "3.8.19"
  }
 },
 "nbformat": 4,
 "nbformat_minor": 5
}
