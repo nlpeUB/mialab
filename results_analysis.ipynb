{
 "cells": [
  {
   "cell_type": "code",
   "execution_count": 1,
   "id": "5370c033-0377-421c-ac58-c65572e4ca61",
   "metadata": {},
   "outputs": [],
   "source": [
    "%load_ext autoreload\n",
    "%autoreload 2"
   ]
  },
  {
   "cell_type": "markdown",
   "id": "4815ca16-3b7a-4e07-8b2d-1553bd890ee6",
   "metadata": {},
   "source": [
    "# Feature engineering - results analysis"
   ]
  },
  {
   "cell_type": "code",
   "execution_count": 2,
   "id": "6de32a05-56aa-456d-8e52-22bc45163b47",
   "metadata": {},
   "outputs": [],
   "source": [
    "import wandb\n",
    "import pandas as pd\n",
    "\n",
    "import plotly.io as pio\n",
    "pio.renderers.default = 'iframe'"
   ]
  },
  {
   "cell_type": "code",
   "execution_count": 3,
   "id": "34f5df26-d624-4dfc-b18c-a04e89beb05d",
   "metadata": {},
   "outputs": [],
   "source": [
    "from wnb_logging import FEATURE_NAMES"
   ]
  },
  {
   "cell_type": "markdown",
   "id": "35a894f9-9453-4816-96f5-f599c7736200",
   "metadata": {},
   "source": [
    "# Initial results analysis"
   ]
  },
  {
   "cell_type": "markdown",
   "id": "76afbaf4-81b7-489b-bafa-79c29c0be60b",
   "metadata": {},
   "source": [
    "## Loading data from W&B"
   ]
  },
  {
   "cell_type": "code",
   "execution_count": 4,
   "id": "17feb821-d1b8-4d4f-b5fd-a59a02c8b00c",
   "metadata": {},
   "outputs": [],
   "source": [
    "from wnb_logging import download_df_between_the_timestamps\n",
    "\n",
    "first_valid_run_name = \"neat-mountain-74\"\n",
    "last_valid_run_name = \"generous-rain-261\"\n",
    "\n",
    "runs_df, metric_columns = download_df_between_the_timestamps(first_valid_run_name, last_valid_run_name)"
   ]
  },
  {
   "cell_type": "code",
   "execution_count": 5,
   "id": "01ef1e25-5cd6-486b-bfff-c2b5728d411d",
   "metadata": {},
   "outputs": [
    {
     "data": {
      "text/plain": [
       "n_estimators  texture_window\n",
       "10            5                 62\n",
       "100           5                 62\n",
       "              10                62\n",
       "Name: count, dtype: int64"
      ]
     },
     "execution_count": 5,
     "metadata": {},
     "output_type": "execute_result"
    }
   ],
   "source": [
    "runs_df[[\"n_estimators\", \"texture_window\"]].value_counts()"
   ]
  },
  {
   "cell_type": "markdown",
   "id": "2250927d-edb4-4bb4-a018-25702c5a3af1",
   "metadata": {},
   "source": [
    "## Reslults analysis"
   ]
  },
  {
   "cell_type": "code",
   "execution_count": 6,
   "id": "bf51ff60-0b23-469c-bf4b-10dafa4766b5",
   "metadata": {},
   "outputs": [],
   "source": [
    "from plot_results import plot_scores"
   ]
  },
  {
   "cell_type": "markdown",
   "id": "198619d6-847c-412d-9036-de207777faa2",
   "metadata": {},
   "source": [
    "### A larger amount of features improves the segmentation performance"
   ]
  },
  {
   "cell_type": "code",
   "execution_count": 7,
   "id": "2bfce7b3-b367-4d14-978d-65de5df03282",
   "metadata": {},
   "outputs": [
    {
     "data": {
      "text/html": [
       "<iframe\n",
       "    scrolling=\"no\"\n",
       "    width=\"100%\"\n",
       "    height=\"545px\"\n",
       "    src=\"iframe_figures/figure_7.html\"\n",
       "    frameborder=\"0\"\n",
       "    allowfullscreen\n",
       "></iframe>\n"
      ]
     },
     "metadata": {},
     "output_type": "display_data"
    }
   ],
   "source": [
    "plot_scores(runs_df, n_estimators=100, texture_window=10, metric_columns=metric_columns)"
   ]
  },
  {
   "cell_type": "code",
   "execution_count": 8,
   "id": "f8b08a8a-c48f-4719-aae2-a15214f66cf4",
   "metadata": {},
   "outputs": [
    {
     "data": {
      "text/html": [
       "<iframe\n",
       "    scrolling=\"no\"\n",
       "    width=\"100%\"\n",
       "    height=\"545px\"\n",
       "    src=\"iframe_figures/figure_8.html\"\n",
       "    frameborder=\"0\"\n",
       "    allowfullscreen\n",
       "></iframe>\n"
      ]
     },
     "metadata": {},
     "output_type": "display_data"
    }
   ],
   "source": [
    "plot_scores(runs_df, n_estimators=100, texture_window=5, metric_columns=metric_columns)"
   ]
  },
  {
   "cell_type": "code",
   "execution_count": 9,
   "id": "b64e09f5-a21a-4efc-ba80-72419b5dc4e6",
   "metadata": {},
   "outputs": [
    {
     "data": {
      "text/html": [
       "<iframe\n",
       "    scrolling=\"no\"\n",
       "    width=\"100%\"\n",
       "    height=\"545px\"\n",
       "    src=\"iframe_figures/figure_9.html\"\n",
       "    frameborder=\"0\"\n",
       "    allowfullscreen\n",
       "></iframe>\n"
      ]
     },
     "metadata": {},
     "output_type": "display_data"
    }
   ],
   "source": [
    "plot_scores(runs_df, n_estimators=10, texture_window=5, metric_columns=metric_columns)"
   ]
  },
  {
   "cell_type": "markdown",
   "id": "ab6d787b-db95-4fbf-b895-6f7c8968da97",
   "metadata": {},
   "source": [
    "In general, we can see increasing trend of metrics values with respect to the number of features. However, after analysis of DICE score for each class we can see that the biggest impact the number of features has on GreyMatter and WhiteMatter, that have quite big DICE scores, so their contribution to mean DICE is bigger than for other classes.\n",
    "\n",
    "Additionally, here we consider only the number of the features, but the combinations are different, and also the number of samples is different (e.g. only one sample for all the features activated)."
   ]
  },
  {
   "cell_type": "code",
   "execution_count": 10,
   "id": "fb01bb33-81bf-4fab-b4e7-5742dad74d25",
   "metadata": {},
   "outputs": [
    {
     "data": {
      "text/html": [
       "<iframe\n",
       "    scrolling=\"no\"\n",
       "    width=\"100%\"\n",
       "    height=\"545px\"\n",
       "    src=\"iframe_figures/figure_10.html\"\n",
       "    frameborder=\"0\"\n",
       "    allowfullscreen\n",
       "></iframe>\n"
      ]
     },
     "metadata": {},
     "output_type": "display_data"
    }
   ],
   "source": [
    "import pandas as pd\n",
    "import plotly.express as px\n",
    "import plotly.graph_objects as go\n",
    "\n",
    "runs_df['n_estimators_and_texture_window'] = (\n",
    "    runs_df['n_estimators'].astype(str) + '&' + runs_df['texture_window'].astype(str)\n",
    ")\n",
    "\n",
    "grouped_df = runs_df.groupby(FEATURE_NAMES + ['n_estimators_and_texture_window'])['MEAN_DICE'].mean().reset_index()\n",
    "\n",
    "pivot_df = grouped_df.pivot(\n",
    "    index=FEATURE_NAMES,\n",
    "    columns='n_estimators_and_texture_window',\n",
    "    values='MEAN_DICE'\n",
    ").reset_index()\n",
    "\n",
    "pivot_df = pivot_df.sort_values(\"100&5\").reset_index()\n",
    "\n",
    "\n",
    "fig = go.Figure()\n",
    "\n",
    "n_estimators_columns = [col for col in pivot_df.columns if col not in FEATURE_NAMES + [\"index\"]]\n",
    "\n",
    "for col in n_estimators_columns:\n",
    "    fig.add_trace(\n",
    "        go.Scatter(\n",
    "            x=pivot_df.index,\n",
    "            y=pivot_df[col],\n",
    "            mode='markers',\n",
    "            name=col\n",
    "        )\n",
    "    )\n",
    "\n",
    "fig.update_layout(\n",
    "    title=\"MEAN_Dice for each n_estimators_and_texture_window\",\n",
    "    xaxis_title=\"Feature Combination\",\n",
    "    yaxis_title=\"MEAN_Dice\",\n",
    "    legend_title=\"n_estimators_and_texture_window\",\n",
    ")\n",
    "\n",
    "fig.show()"
   ]
  },
  {
   "cell_type": "markdown",
   "id": "46ae5f8c-136d-4f4b-900e-6105dc89aada",
   "metadata": {},
   "source": [
    "### Feature importance analysis"
   ]
  },
  {
   "cell_type": "code",
   "execution_count": 11,
   "id": "d6e813f9-0d6e-4a70-8edb-de65b5bdb56f",
   "metadata": {},
   "outputs": [
    {
     "data": {
      "image/png": "[encoded data removed]",
      "text/plain": [
       "<Figure size 1000x1000 with 1 Axes>"
      ]
     },
     "metadata": {},
     "output_type": "display_data"
    }
   ],
   "source": [
    "%matplotlib inline\n",
    "\n",
    "import matplotlib.pyplot as plt\n",
    "import matplotlib.image as mpimg\n",
    "\n",
    "img = mpimg.imread(f\"mia-result/g85vwre9_feature_importances.png\")\n",
    "plt.figure(figsize=(10, 10)) \n",
    "imgplot = plt.imshow(img)\n",
    "plt.axis('off')\n",
    "plt.show()"
   ]
  },
  {
   "cell_type": "markdown",
   "id": "0dd62352-4278-4683-aa9f-ff846d3106ed",
   "metadata": {},
   "source": [
    "From the analysis of the feature importances we can see that the intensity of T1w and T2w are the most important for the model."
   ]
  },
  {
   "cell_type": "markdown",
   "id": "53cb86e2-2279-4d15-82e2-9b4a2584877a",
   "metadata": {},
   "source": [
    "## Analysis of the performance after grouping the classes "
   ]
  },
  {
   "cell_type": "code",
   "execution_count": 12,
   "id": "20e6ceb3-c563-4c77-a682-e1a9e55ad243",
   "metadata": {},
   "outputs": [],
   "source": [
    "first_valid_run_name = \"vibrant-puddle-263\"\n",
    "last_valid_run_name = \"chocolate-terrain-325\"\n",
    "\n",
    "runs_df_with_d_and_h, metric_columns = download_df_between_the_timestamps(first_valid_run_name, last_valid_run_name)"
   ]
  },
  {
   "cell_type": "code",
   "execution_count": 13,
   "id": "e4a851ae-1b1e-43e9-a5a5-52592bc996ed",
   "metadata": {},
   "outputs": [
    {
     "data": {
      "text/plain": [
       "n_estimators  texture_window\n",
       "100           5.0               61\n",
       "Name: count, dtype: int64"
      ]
     },
     "execution_count": 13,
     "metadata": {},
     "output_type": "execute_result"
    }
   ],
   "source": [
    "runs_df_with_d_and_h[[\"n_estimators\", \"texture_window\"]].value_counts()"
   ]
  },
  {
   "cell_type": "code",
   "execution_count": 14,
   "id": "2c47cc1e-5758-49d4-9c00-03e7d8f8bde2",
   "metadata": {},
   "outputs": [],
   "source": [
    "# Fix some issues with logged values\n",
    "\n",
    "runs_df_with_d_and_h = runs_df_with_d_and_h.replace(\"Infinity\", None)\n",
    "\n",
    "hdrdst_per_segment_columns = [c for c in runs_df_with_d_and_h.columns if \"MEAN_HDRFDST_\" in c]\n",
    "runs_df_with_d_and_h[\"MEAN_HDRFDST\"] = runs_df_with_d_and_h[hdrdst_per_segment_columns].mean(axis=1)"
   ]
  },
  {
   "cell_type": "code",
   "execution_count": 15,
   "id": "587c5a9f-2515-4c43-b31a-a00724a0c0ac",
   "metadata": {},
   "outputs": [
    {
     "data": {
      "text/html": [
       "<iframe\n",
       "    scrolling=\"no\"\n",
       "    width=\"100%\"\n",
       "    height=\"545px\"\n",
       "    src=\"iframe_figures/figure_15.html\"\n",
       "    frameborder=\"0\"\n",
       "    allowfullscreen\n",
       "></iframe>\n"
      ]
     },
     "metadata": {},
     "output_type": "display_data"
    }
   ],
   "source": [
    "hdrdst_columns = [c for c in metric_columns if \"HDRFDST\" in c]\n",
    "df_long = plot_scores(runs_df_with_d_and_h, n_estimators=100, texture_window=5, metric_columns=hdrdst_columns)"
   ]
  },
  {
   "cell_type": "code",
   "execution_count": null,
   "id": "6b97573f-9d76-4193-8ab6-6ca8356e1164",
   "metadata": {},
   "outputs": [],
   "source": []
  }
 ],
 "metadata": {
  "kernelspec": {
   "display_name": "mialab",
   "language": "python",
   "name": "mialab"
  },
  "language_info": {
   "codemirror_mode": {
    "name": "ipython",
    "version": 3
   },
   "file_extension": ".py",
   "mimetype": "text/x-python",
   "name": "python",
   "nbconvert_exporter": "python",
   "pygments_lexer": "ipython3",
   "version": "3.8.19"
  }
 },
 "nbformat": 4,
 "nbformat_minor": 5
}
