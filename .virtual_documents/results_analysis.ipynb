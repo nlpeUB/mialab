%load_ext autoreload
%autoreload 2





import wandb
import pandas as pd

import plotly.io as pio
pio.renderers.default = 'iframe'


FEATURE_NAMES = [
    'intensity_feature',
    'coordinates_feature',
    'gradient_intensity_feature',
    'texture_contrast_feature',
    'texture_correlation_feature',
    'texture_dissimilarity_feature',
    # 'texture',
    't2_features',
    'edge_feature'
]





api = wandb.Api()
entity, project = "alicja-krzeminska-sciga-dl", "mialab"


first_valid_run_id = "g85vwre9"
run = api.run(f"{entity}/{project}/{first_valid_run_id}")
first_valid_run_timestamp = run.summary["_timestamp"]


runs = api.runs(entity + "/" + project)

run_dict_list = []

for run in runs:
    if run.summary["_timestamp"] >= first_valid_run_timestamp:
        summary = run.summary._json_dict
        config = {k: v for k, v in run.config.items() if not k.startswith("_")}
        
        run_dict_list.append({
            "name": run.name,
            **summary,
            **config
        })
        
runs_df = pd.DataFrame(run_dict_list)


metric_columns = [c for c in runs_df.columns if "_DICE" in c]
interesting_columns = metric_columns + FEATURE_NAMES

runs_df[interesting_columns].head()








def count_features(row):
    features_count = 0
    for f in FEATURE_NAMES:
        if f != "t2_features":
            features_count += row[f]
    if row["t2_features"]:
        features_count *= 2
    return features_count

runs_df["features_number"] = runs_df.apply(lambda row: count_features(row), axis=1)


import plotly.express as px

mean_columns = [c for c in metric_columns if "MEAN_" in c]

df_long = runs_df.melt(id_vars=['features_number'], value_vars=mean_columns, 
                  var_name='Feature name', value_name='value')

fig = px.violin(df_long, x='features_number', y='value', color='Feature name', points='all',
             labels={'features_number': '#features', 'value': 'Value'},
             title='Metrics values with respect to features number')

fig.show()








%matplotlib inline

import matplotlib.pyplot as plt
import matplotlib.image as mpimg

img = mpimg.imread(f"mia-result/g85vwre9_feature_importances.png")
plt.figure(figsize=(10, 10)) 
imgplot = plt.imshow(img)
plt.axis('off')
plt.show()









